{
 "cells": [
  {
   "cell_type": "code",
   "execution_count": 150,
   "id": "849c266e",
   "metadata": {},
   "outputs": [],
   "source": [
    "import pandas as pd\n",
    "import numpy as np\n",
    "import matplotlib\n",
    "import matplotlib.pyplot as plt\n",
    "import seaborn as sns"
   ]
  },
  {
   "cell_type": "code",
   "execution_count": 151,
   "id": "3de8d2a5",
   "metadata": {},
   "outputs": [],
   "source": [
    "df = pd.read_csv('df_after_data_processing.csv')"
   ]
  },
  {
   "cell_type": "code",
   "execution_count": 152,
   "id": "25a2e52e",
   "metadata": {},
   "outputs": [
    {
     "data": {
      "text/plain": [
       "['DOI',\n",
       " 'Date',\n",
       " 'Journal',\n",
       " 'Title',\n",
       " 'Name',\n",
       " 'measurement_method',\n",
       " 'raw_value',\n",
       " 'smiles',\n",
       " 'index',\n",
       " 'atom_stereo_count',\n",
       " 'atoms',\n",
       " 'bond_stereo_count',\n",
       " 'bonds',\n",
       " 'cactvs_fingerprint',\n",
       " 'canonical_smiles',\n",
       " 'charge',\n",
       " 'complexity',\n",
       " 'coordinate_type',\n",
       " 'covalent_unit_count',\n",
       " 'defined_atom_stereo_count',\n",
       " 'defined_bond_stereo_count',\n",
       " 'elements',\n",
       " 'exact_mass',\n",
       " 'fingerprint',\n",
       " 'h_bond_acceptor_count',\n",
       " 'h_bond_donor_count',\n",
       " 'heavy_atom_count',\n",
       " 'inchi',\n",
       " 'inchikey',\n",
       " 'isomeric_smiles',\n",
       " 'isotope_atom_count',\n",
       " 'iupac_name',\n",
       " 'molecular_formula',\n",
       " 'molecular_weight',\n",
       " 'monoisotopic_mass',\n",
       " 'record',\n",
       " 'rotatable_bond_count',\n",
       " 'tpsa',\n",
       " 'undefined_atom_stereo_count',\n",
       " 'undefined_bond_stereo_count',\n",
       " 'xlogp',\n",
       " 'index.1',\n",
       " 'exactmw',\n",
       " 'amw',\n",
       " 'lipinskiHBA',\n",
       " 'lipinskiHBD',\n",
       " 'NumRotatableBonds',\n",
       " 'NumHBD',\n",
       " 'NumHBA',\n",
       " 'NumHeavyAtoms',\n",
       " 'NumAtoms',\n",
       " 'NumHeteroatoms',\n",
       " 'NumAmideBonds',\n",
       " 'FractionCSP3',\n",
       " 'NumRings',\n",
       " 'NumAromaticRings',\n",
       " 'NumAliphaticRings',\n",
       " 'NumSaturatedRings',\n",
       " 'NumHeterocycles',\n",
       " 'NumAromaticHeterocycles',\n",
       " 'NumSaturatedHeterocycles',\n",
       " 'NumAliphaticHeterocycles',\n",
       " 'NumSpiroAtoms',\n",
       " 'NumBridgeheadAtoms',\n",
       " 'NumAtomStereoCenters',\n",
       " 'NumUnspecifiedAtomStereoCenters',\n",
       " 'labuteASA',\n",
       " 'tpsa.1',\n",
       " 'CrippenClogP',\n",
       " 'CrippenMR',\n",
       " 'chi0v',\n",
       " 'chi1v',\n",
       " 'chi2v',\n",
       " 'chi3v',\n",
       " 'chi4v',\n",
       " 'chi0n',\n",
       " 'chi1n',\n",
       " 'chi2n',\n",
       " 'chi3n',\n",
       " 'chi4n',\n",
       " 'hallKierAlpha',\n",
       " 'kappa1',\n",
       " 'kappa2',\n",
       " 'kappa3',\n",
       " 'Phi',\n",
       " 'index.2',\n",
       " 'index.3',\n",
       " 'nAcid',\n",
       " 'ALogP',\n",
       " 'ALogp2',\n",
       " 'AMR',\n",
       " 'apol',\n",
       " 'naAromAtom',\n",
       " 'nAromBond',\n",
       " 'nAtom',\n",
       " 'nHeavyAtom',\n",
       " 'nH',\n",
       " 'nB',\n",
       " 'nC',\n",
       " 'nN',\n",
       " 'nO',\n",
       " 'nS',\n",
       " 'nP',\n",
       " 'nF',\n",
       " 'nCl',\n",
       " 'nBr',\n",
       " 'nI',\n",
       " 'nX',\n",
       " 'ATS0m',\n",
       " 'ATS1m',\n",
       " 'ATS2m',\n",
       " 'ATS3m',\n",
       " 'ATS4m',\n",
       " 'ATS5m',\n",
       " 'ATS6m',\n",
       " 'ATS7m',\n",
       " 'ATS8m',\n",
       " 'ATS0v',\n",
       " 'ATS1v',\n",
       " 'ATS2v',\n",
       " 'ATS3v',\n",
       " 'ATS4v',\n",
       " 'ATS5v',\n",
       " 'ATS6v',\n",
       " 'ATS7v',\n",
       " 'ATS8v',\n",
       " 'ATS0e',\n",
       " 'ATS1e',\n",
       " 'ATS2e',\n",
       " 'ATS3e',\n",
       " 'ATS4e',\n",
       " 'ATS5e',\n",
       " 'ATS6e',\n",
       " 'ATS7e',\n",
       " 'ATS8e',\n",
       " 'ATS0p',\n",
       " 'ATS1p',\n",
       " 'ATS2p',\n",
       " 'ATS3p',\n",
       " 'ATS4p',\n",
       " 'ATS5p',\n",
       " 'ATS6p',\n",
       " 'ATS7p',\n",
       " 'ATS8p',\n",
       " 'ATS0i',\n",
       " 'ATS1i',\n",
       " 'ATS2i',\n",
       " 'ATS3i',\n",
       " 'ATS4i',\n",
       " 'ATS5i']"
      ]
     },
     "execution_count": 152,
     "metadata": {},
     "output_type": "execute_result"
    }
   ],
   "source": [
    "df.columns.tolist()[:150]"
   ]
  },
  {
   "cell_type": "markdown",
   "id": "67572e3d",
   "metadata": {},
   "source": [
    "Firstly, let's check lipinskiHBA - number of heteroatoms dependence using scatterplot"
   ]
  },
  {
   "cell_type": "code",
   "execution_count": 153,
   "id": "b477aca9",
   "metadata": {},
   "outputs": [
    {
     "data": {
      "text/plain": [
       "<AxesSubplot:xlabel='lipinskiHBA', ylabel='NumHeteroatoms'>"
      ]
     },
     "execution_count": 153,
     "metadata": {},
     "output_type": "execute_result"
    },
    {
     "data": {
      "image/png": "[encoded data removed]",
      "text/plain": [
       "<Figure size 432x288 with 1 Axes>"
      ]
     },
     "metadata": {
      "needs_background": "light"
     },
     "output_type": "display_data"
    }
   ],
   "source": [
    "sns.scatterplot(x='lipinskiHBA', y='NumHeteroatoms' ,data=df)"
   ]
  },
  {
   "cell_type": "code",
   "execution_count": 154,
   "id": "44729049",
   "metadata": {},
   "outputs": [
    {
     "data": {
      "text/plain": [
       "(0.9879978036920428, 0.0)"
      ]
     },
     "execution_count": 154,
     "metadata": {},
     "output_type": "execute_result"
    }
   ],
   "source": [
    "from scipy import stats\n",
    "stats.pearsonr(df['lipinskiHBA'], df['NumHeteroatoms'])"
   ]
  },
  {
   "cell_type": "markdown",
   "id": "bd083fa8",
   "metadata": {},
   "source": [
    "As we can see, these descriptors have strong positive correlation"
   ]
  },
  {
   "cell_type": "markdown",
   "id": "b68dab77",
   "metadata": {},
   "source": [
    "Next, we cal visualize a boxplot of number of atoms in molecules in our dataset"
   ]
  },
  {
   "cell_type": "code",
   "execution_count": 155,
   "id": "365f5e36",
   "metadata": {},
   "outputs": [
    {
     "data": {
      "text/plain": [
       "<AxesSubplot:ylabel='NumAtoms'>"
      ]
     },
     "execution_count": 155,
     "metadata": {},
     "output_type": "execute_result"
    },
    {
     "data": {
      "image/png": "[encoded data removed]",
      "text/plain": [
       "<Figure size 432x288 with 1 Axes>"
      ]
     },
     "metadata": {
      "needs_background": "light"
     },
     "output_type": "display_data"
    }
   ],
   "source": [
    "sns.boxplot(data=df, y='NumAtoms')"
   ]
  },
  {
   "cell_type": "markdown",
   "id": "a8514d80",
   "metadata": {},
   "source": [
    "As we can see our dataset mainly contains small molecules. Also, there are some outliers in this descriptor"
   ]
  },
  {
   "cell_type": "markdown",
   "id": "5cdd1822",
   "metadata": {},
   "source": [
    "We can visualize distribution of molecular weights in our database using histogram plot"
   ]
  },
  {
   "cell_type": "code",
   "execution_count": 214,
   "id": "ba3e70c2",
   "metadata": {},
   "outputs": [
    {
     "data": {
      "text/plain": [
       "<AxesSubplot:xlabel='molecular_weight', ylabel='Count'>"
      ]
     },
     "execution_count": 214,
     "metadata": {},
     "output_type": "execute_result"
    },
    {
     "data": {
      "image/png": "[encoded data removed]",
      "text/plain": [
       "<Figure size 1296x720 with 1 Axes>"
      ]
     },
     "metadata": {
      "needs_background": "light"
     },
     "output_type": "display_data"
    }
   ],
   "source": [
    "fig, axes = plt.subplots(figsize=(18, 10))\n",
    "\n",
    "fig.suptitle('Molecular weights distribution plot', size=30)\n",
    "sns.histplot(data=df, x='molecular_weight')"
   ]
  },
  {
   "cell_type": "markdown",
   "id": "144e4835",
   "metadata": {},
   "source": [
    "As we can see, distribution of molecular weights shifted to the small values (because our dataset dominated by small molecules)"
   ]
  },
  {
   "cell_type": "markdown",
   "id": "0772398a",
   "metadata": {},
   "source": [
    "Next, we can use plotly to build interactive visualizations"
   ]
  },
  {
   "cell_type": "code",
   "execution_count": 157,
   "id": "6a3770f7",
   "metadata": {},
   "outputs": [],
   "source": [
    "import plotly.graph_objects as go\n",
    "import plotly.express as px\n",
    "from jupyter_dash import JupyterDash\n",
    "from dash import dcc, html\n",
    "from dash.dependencies import Input, Output "
   ]
  },
  {
   "cell_type": "code",
   "execution_count": 158,
   "id": "8734b664",
   "metadata": {},
   "outputs": [
    {
     "name": "stdout",
     "output_type": "stream",
     "text": [
      "Dash is running on http://127.0.0.1:8050/\n",
      "\n"
     ]
    },
    {
     "data": {
      "text/html": [
       "\n",
       "        <iframe\n",
       "            width=\"100%\"\n",
       "            height=\"650\"\n",
       "            src=\"http://127.0.0.1:8050/\"\n",
       "            frameborder=\"0\"\n",
       "            allowfullscreen\n",
       "            \n",
       "        ></iframe>\n",
       "        "
      ],
      "text/plain": [
       "<IPython.lib.display.IFrame at 0x7fe1f05a4df0>"
      ]
     },
     "metadata": {},
     "output_type": "display_data"
    }
   ],
   "source": [
    "fig = px.scatter(df, x='CrippenClogP', y='xlogp', size='NumAtoms', size_max=25)\n",
    " # build jupyter dash app\n",
    "app = JupyterDash(__name__)\n",
    " # add html components and figure to app\n",
    "app.layout = html.Div([dcc.Graph(figure=fig)])\n",
    " # run app inline\n",
    "app.run_server(mode='inline')"
   ]
  },
  {
   "cell_type": "markdown",
   "id": "20bd6de4",
   "metadata": {},
   "source": [
    "As we can see, small molecules have the approximately the same distribution between octanol and water while large molecules tend to be hydrophilic or hydrophobic. It should be mentioned, that for hydrophobic molecules there is correspondence between two different calculation approaches for obtaining logP value, however for more hydrophilic molecules there is not any compliance between two methods."
   ]
  },
  {
   "cell_type": "markdown",
   "id": "b7ed4924",
   "metadata": {},
   "source": [
    "As we can see, plots can be useful for understanding distribution of parameters in our dataset or investigation of dependiences between them."
   ]
  },
  {
   "cell_type": "markdown",
   "id": "623bf355",
   "metadata": {},
   "source": [
    "Next, let's take some statistical tests on our data"
   ]
  },
  {
   "cell_type": "code",
   "execution_count": 159,
   "id": "5aa6ebcd",
   "metadata": {},
   "outputs": [
    {
     "name": "stdout",
     "output_type": "stream",
     "text": [
      "stat=0.854, p=0.000\n",
      "Probably not Gaussian\n"
     ]
    }
   ],
   "source": [
    "from scipy.stats import shapiro\n",
    "data = df['NumAtoms']\n",
    "stat, p = shapiro(data)\n",
    "print('stat={0:.3f}, p={1:.3f}'.format(stat, p))\n",
    "if p > 0.05:\n",
    "    print('Probably Gaussian')\n",
    "else:\n",
    "    print('Probably not Gaussian')"
   ]
  },
  {
   "cell_type": "code",
   "execution_count": 160,
   "id": "f72af6fd",
   "metadata": {},
   "outputs": [
    {
     "data": {
      "text/plain": [
       "<AxesSubplot:xlabel='NumAtoms', ylabel='Count'>"
      ]
     },
     "execution_count": 160,
     "metadata": {},
     "output_type": "execute_result"
    },
    {
     "data": {
      "image/png": "[encoded data removed]",
      "text/plain": [
       "<Figure size 1296x720 with 1 Axes>"
      ]
     },
     "metadata": {
      "needs_background": "light"
     },
     "output_type": "display_data"
    }
   ],
   "source": [
    "fig, axes = plt.subplots(figsize=(18, 10))\n",
    "\n",
    "fig.suptitle('Number of atoms distribution plot', size=30)\n",
    "sns.histplot(data=df, x='NumAtoms')"
   ]
  },
  {
   "cell_type": "markdown",
   "id": "522adaa5",
   "metadata": {},
   "source": [
    "Our distribution is not Gaussian with data shift towards small molecules"
   ]
  },
  {
   "cell_type": "markdown",
   "id": "9c264c4a",
   "metadata": {},
   "source": [
    "Next we can check, do the molecular weight and number of atoms have the same distribution"
   ]
  },
  {
   "cell_type": "code",
   "execution_count": 161,
   "id": "16a5595a",
   "metadata": {},
   "outputs": [
    {
     "name": "stdout",
     "output_type": "stream",
     "text": [
      "stat=45.641, p=0.000\n",
      "Probably different distributions\n"
     ]
    }
   ],
   "source": [
    "from scipy.stats import ttest_ind\n",
    "data1 = df['molecular_weight']\n",
    "data2 = df['NumAtoms']\n",
    "stat, p = ttest_ind(data1, data2)\n",
    "print('stat={0:.3f}, p={1:.3f}'.format(stat, p))\n",
    "if p > 0.05:\n",
    "    print('Probably the same distribution')\n",
    "else:\n",
    "    print('Probably different distributions')"
   ]
  },
  {
   "cell_type": "markdown",
   "id": "2c21755e",
   "metadata": {},
   "source": [
    "They have different distribution because of presence of heavy atoms in our molecules "
   ]
  },
  {
   "cell_type": "markdown",
   "id": "88b51b4a",
   "metadata": {},
   "source": [
    "Let's check distributions of number H acceptors and lipinski HBA (number of Os and Ns)"
   ]
  },
  {
   "cell_type": "code",
   "execution_count": 162,
   "id": "646b72dc",
   "metadata": {},
   "outputs": [
    {
     "name": "stdout",
     "output_type": "stream",
     "text": [
      "stat=0.944, p=0.345\n",
      "Probably the same distribution\n"
     ]
    }
   ],
   "source": [
    "from scipy.stats import ttest_ind\n",
    "data1 = df['h_bond_acceptor_count']\n",
    "data2 = df['lipinskiHBA']\n",
    "stat, p = ttest_ind(data1, data2)\n",
    "print('stat={0:.3f}, p={1:.3f}'.format(stat, p))\n",
    "if p > 0.05:\n",
    "    print('Probably the same distribution')\n",
    "else:\n",
    "    print('Probably different distributions')"
   ]
  },
  {
   "cell_type": "code",
   "execution_count": 163,
   "id": "b31060b2",
   "metadata": {
    "scrolled": true
   },
   "outputs": [
    {
     "data": {
      "text/plain": [
       "<AxesSubplot:xlabel='lipinskiHBA', ylabel='Count'>"
      ]
     },
     "execution_count": 163,
     "metadata": {},
     "output_type": "execute_result"
    },
    {
     "data": {
      "image/png": "[encoded data removed]",
      "text/plain": [
       "<Figure size 1296x720 with 2 Axes>"
      ]
     },
     "metadata": {
      "needs_background": "light"
     },
     "output_type": "display_data"
    }
   ],
   "source": [
    "fig, axes = plt.subplots(1, 2, figsize=(18, 10))\n",
    "\n",
    "fig.suptitle('Distribution plot', size=30)\n",
    "sns.histplot(ax=axes[0], data=df, x='h_bond_acceptor_count')\n",
    "sns.histplot(ax=axes[1], data=df, x='lipinskiHBA')"
   ]
  },
  {
   "cell_type": "markdown",
   "id": "8d8dbbec",
   "metadata": {},
   "source": [
    "We can conclude that the main atoms that are acceptors of hydrogen in our database are nitrogen and oxygen"
   ]
  },
  {
   "cell_type": "markdown",
   "id": "2d076e60",
   "metadata": {},
   "source": [
    "It is interesting to investigane distributions of logP values obtained by different calculation methods"
   ]
  },
  {
   "cell_type": "code",
   "execution_count": 167,
   "id": "2d2099a5",
   "metadata": {},
   "outputs": [
    {
     "name": "stdout",
     "output_type": "stream",
     "text": [
      "stat=1333.643, p=0.000\n",
      "Probably different distributions\n"
     ]
    }
   ],
   "source": [
    "from scipy.stats import f_oneway\n",
    "data1 = df['xlogp']\n",
    "data2 = df['CrippenClogP']\n",
    "data3 = df['ALogP']\n",
    "stat, p = f_oneway(data1, data2)\n",
    "print('stat={0:.3f}, p={1:.3f}'.format(stat, p))\n",
    "if p > 0.05:\n",
    "    print('Probably the same distribution')\n",
    "else:\n",
    "    print('Probably different distributions')"
   ]
  },
  {
   "cell_type": "code",
   "execution_count": 168,
   "id": "40369747",
   "metadata": {},
   "outputs": [
    {
     "data": {
      "text/plain": [
       "<AxesSubplot:xlabel='ALogP', ylabel='Count'>"
      ]
     },
     "execution_count": 168,
     "metadata": {},
     "output_type": "execute_result"
    },
    {
     "data": {
      "image/png": "[encoded data removed]",
      "text/plain": [
       "<Figure size 1296x720 with 3 Axes>"
      ]
     },
     "metadata": {
      "needs_background": "light"
     },
     "output_type": "display_data"
    }
   ],
   "source": [
    "fig, axes = plt.subplots(1, 3, figsize=(18, 10))\n",
    "\n",
    "fig.suptitle('Distribution plot', size=30)\n",
    "sns.histplot(ax=axes[0], data=df, x='xlogp')\n",
    "sns.histplot(ax=axes[1], data=df, x='CrippenClogP')\n",
    "sns.histplot(ax=axes[2], data=df, x='ALogP')"
   ]
  },
  {
   "cell_type": "markdown",
   "id": "5b50d5c2",
   "metadata": {},
   "source": [
    "So, they do not have similar distrubution"
   ]
  },
  {
   "cell_type": "markdown",
   "id": "940b8a3e",
   "metadata": {},
   "source": [
    "Let's translate CrippenClogP from numerical to categorical values"
   ]
  },
  {
   "cell_type": "code",
   "execution_count": 179,
   "id": "e83ead59",
   "metadata": {},
   "outputs": [
    {
     "name": "stderr",
     "output_type": "stream",
     "text": [
      "/tmp/ipykernel_44/4079677703.py:3: SettingWithCopyWarning:\n",
      "\n",
      "\n",
      "A value is trying to be set on a copy of a slice from a DataFrame\n",
      "\n",
      "See the caveats in the documentation: https://pandas.pydata.org/pandas-docs/stable/user_guide/indexing.html#returning-a-view-versus-a-copy\n",
      "\n"
     ]
    }
   ],
   "source": [
    "for i,_ in df.iterrows():\n",
    "    if df['CrippenClogP'][i] < 0:\n",
    "        df['CrippenClogP'][i] = 'Hydrophilic'\n",
    "    elif df['CrippenClogP'][i] > 0:\n",
    "        df['CrippenClogP'][i] = 'Hydrophobic'\n",
    "    elif df['CrippenClogP'][i] == 0:\n",
    "        df['CrippenClogP'][i] = 'Superposition'"
   ]
  },
  {
   "cell_type": "markdown",
   "id": "5d5bfd27",
   "metadata": {},
   "source": [
    "Do some interesting statistics"
   ]
  },
  {
   "cell_type": "code",
   "execution_count": 211,
   "id": "9df7fcc2",
   "metadata": {},
   "outputs": [
    {
     "name": "stdout",
     "output_type": "stream",
     "text": [
      "Hydrophilic v.s. Hydrophobic: t-test independent samples with Bonferroni correction, P_val=5.201e-208 stat=3.249e+01\n"
     ]
    },
    {
     "data": {
      "text/plain": [
       "(<AxesSubplot:xlabel='CrippenClogP', ylabel='h_bond_acceptor_count'>,\n",
       " [<statannot.StatResult.StatResult at 0x7fe1d4f23d60>])"
      ]
     },
     "execution_count": 211,
     "metadata": {},
     "output_type": "execute_result"
    },
    {
     "data": {
      "image/png": "[encoded data removed]",
      "text/plain": [
       "<Figure size 648x432 with 1 Axes>"
      ]
     },
     "metadata": {
      "needs_background": "light"
     },
     "output_type": "display_data"
    }
   ],
   "source": [
    "from statannot import add_stat_annotation\n",
    "f, g = plt.subplots(figsize=(9, 6))\n",
    "g = sns.boxplot(x='CrippenClogP', y='h_bond_acceptor_count', data=df, color='#A7D0E4')\n",
    "g.set_ylabel( r'h_bond_acceptor_count', fontsize = 15)\n",
    "g.set_xticklabels(g.get_xmajorticklabels(), fontsize = 15)\n",
    "add_stat_annotation(g, data=df, x='CrippenClogP', y='h_bond_acceptor_count',\n",
    "                    box_pairs=[('Hydrophobic', 'Hydrophilic')],\n",
    "                    test='t-test_ind', text_format='simple', loc='inside', verbose=2, fontsize = 13, comparisons_correction='bonferroni')"
   ]
  },
  {
   "cell_type": "markdown",
   "id": "644789ae",
   "metadata": {},
   "source": [
    "As we can see, there is significant difference in number of h acceptors between hydrophilic and hydrophobic molecules"
   ]
  },
  {
   "cell_type": "code",
   "execution_count": 222,
   "id": "d8f616aa",
   "metadata": {},
   "outputs": [
    {
     "name": "stdout",
     "output_type": "stream",
     "text": [
      "Hydrophilic v.s. Hydrophobic: t-test independent samples with Bonferroni correction, P_val=1.889e-274 stat=3.804e+01\n"
     ]
    },
    {
     "data": {
      "text/plain": [
       "(<AxesSubplot:xlabel='CrippenClogP', ylabel='kappa1'>,\n",
       " [<statannot.StatResult.StatResult at 0x7fe1d37dc490>])"
      ]
     },
     "execution_count": 222,
     "metadata": {},
     "output_type": "execute_result"
    },
    {
     "data": {
      "image/png": "[encoded data removed]",
      "text/plain": [
       "<Figure size 648x432 with 1 Axes>"
      ]
     },
     "metadata": {
      "needs_background": "light"
     },
     "output_type": "display_data"
    }
   ],
   "source": [
    "from statannot import add_stat_annotation\n",
    "f, g = plt.subplots(figsize=(9, 6))\n",
    "g = sns.boxplot(x='CrippenClogP', y='hallKierAlpha', data=df, color='#A7D0E4')\n",
    "g.set_ylabel( r'hallKierAlpha', fontsize = 15)\n",
    "g.set_xticklabels(g.get_xmajorticklabels(), fontsize = 15)\n",
    "add_stat_annotation(g, data=df, x='CrippenClogP', y='hallKierAlpha',\n",
    "                    box_pairs=[('Hydrophobic', 'Hydrophilic')],\n",
    "                    test='t-test_ind', text_format='simple', loc='inside', verbose=2, fontsize = 13, comparisons_correction='bonferroni')"
   ]
  },
  {
   "cell_type": "markdown",
   "id": "e6869f40",
   "metadata": {},
   "source": [
    "What is more interesting that complexity of the structure is different for hydrophobic and hydrophilic molecules in our dataset. \n",
    "More branched molecules are hydrophobic"
   ]
  },
  {
   "cell_type": "code",
   "execution_count": null,
   "id": "b28b625f",
   "metadata": {},
   "outputs": [],
   "source": []
  }
 ],
 "metadata": {
  "kernelspec": {
   "display_name": "Python 3 (ipykernel)",
   "language": "python",
   "name": "python3"
  },
  "language_info": {
   "codemirror_mode": {
    "name": "ipython",
    "version": 3
   },
   "file_extension": ".py",
   "mimetype": "text/x-python",
   "name": "python",
   "nbconvert_exporter": "python",
   "pygments_lexer": "ipython3",
   "version": "3.10.6"
  }
 },
 "nbformat": 4,
 "nbformat_minor": 5
}
